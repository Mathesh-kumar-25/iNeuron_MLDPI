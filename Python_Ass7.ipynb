{
  "nbformat": 4,
  "nbformat_minor": 0,
  "metadata": {
    "colab": {
      "name": "Python_Ass7.ipynb",
      "provenance": [],
      "collapsed_sections": []
    },
    "kernelspec": {
      "display_name": "Python 3",
      "name": "python3"
    }
  },
  "cells": [
    {
      "cell_type": "markdown",
      "metadata": {
        "id": "k6QdrGUK2KC5"
      },
      "source": [
        "## **Assignment 7**\n",
        "## Numpy Assignment"
      ]
    },
    {
      "cell_type": "code",
      "metadata": {
        "id": "VFK_j8qY_Fs8"
      },
      "source": [
        "import numpy as np"
      ],
      "execution_count": 1,
      "outputs": []
    },
    {
      "cell_type": "markdown",
      "metadata": {
        "id": "50vPSNex4X7a"
      },
      "source": [
        "##### **Prb No : 1.** Write a function so that the columns of the output matrix are powers of the input vector. (**Alexandre \u0002Theophile Vandermonde - ATV**)"
      ]
    },
    {
      "cell_type": "code",
      "metadata": {
        "id": "40gaI-Hc_DH0"
      },
      "source": [
        "def ATV(array):\n",
        "  atv = np.vander(array, len(array))\n",
        "  return atv"
      ],
      "execution_count": 2,
      "outputs": []
    },
    {
      "cell_type": "code",
      "metadata": {
        "colab": {
          "base_uri": "https://localhost:8080/"
        },
        "id": "xskMEbSY_QYm",
        "outputId": "4bfc350b-3765-4497-a50f-f31ab27bc5ae"
      },
      "source": [
        "array = np.array([1, 2, 3])\n",
        "atv = ATV(array)\n",
        "atv"
      ],
      "execution_count": 3,
      "outputs": [
        {
          "output_type": "execute_result",
          "data": {
            "text/plain": [
              "array([[1, 1, 1],\n",
              "       [4, 2, 1],\n",
              "       [9, 3, 1]])"
            ]
          },
          "metadata": {
            "tags": []
          },
          "execution_count": 3
        }
      ]
    },
    {
      "cell_type": "markdown",
      "metadata": {
        "id": "6MZVRJKE-wBG"
      },
      "source": [
        "##### **Prb No : 2.** Write a function to find moving average in an array over a window: Test it over [3, 5, 7, 2, 8, 10, 11, 65, 72, 81, 99, 100, 150] and window of 3."
      ]
    },
    {
      "cell_type": "code",
      "metadata": {
        "id": "iGSsQEIZ2_i0"
      },
      "source": [
        "def movingAverage(array, k):\n",
        "  array_cumsum = np.cumsum(array)\n",
        "  array_cumsum[k:] = array_cumsum[k:] - array_cumsum[:-k]\n",
        "  return array_cumsum[k-1:] / k"
      ],
      "execution_count": 4,
      "outputs": []
    },
    {
      "cell_type": "code",
      "metadata": {
        "id": "Y1QL2hEO3SzB",
        "colab": {
          "base_uri": "https://localhost:8080/"
        },
        "outputId": "0dd692c4-5a03-42e7-a886-91088f7c1c6c"
      },
      "source": [
        "array = np.array([3, 5, 7, 2, 8, 10, 11, 65, 72, 81, 99, 100, 150])\n",
        "movAvg = movingAverage(array, 3)\n",
        "movAvg"
      ],
      "execution_count": 5,
      "outputs": [
        {
          "output_type": "execute_result",
          "data": {
            "text/plain": [
              "array([  5.        ,   4.66666667,   5.66666667,   6.66666667,\n",
              "         9.66666667,  28.66666667,  49.33333333,  72.66666667,\n",
              "        84.        ,  93.33333333, 116.33333333])"
            ]
          },
          "metadata": {
            "tags": []
          },
          "execution_count": 5
        }
      ]
    },
    {
      "cell_type": "code",
      "metadata": {
        "id": "_-DdS1FofYjq"
      },
      "source": [
        ""
      ],
      "execution_count": 5,
      "outputs": []
    }
  ]
}